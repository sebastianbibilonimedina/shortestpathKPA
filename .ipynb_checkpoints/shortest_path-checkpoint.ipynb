{
 "cells": [
  {
   "cell_type": "code",
   "execution_count": null,
   "id": "855cb808",
   "metadata": {},
   "outputs": [],
   "source": [
    "import networkx as nx\n",
    "\n",
    "# Create an empty graph object\n",
    "G = nx.Graph()\n",
    "\n",
    "# Add nodes to the graph\n",
    "cities = [\n",
    "    \"WA\", \"CA1\", \"CA2\", \"UT\", \"CO\", \"TX\", \"NE\", \"IL\", \"PA\", \"GA\", \"MI\", \"NY\", \"NJ\", \"DC\"\n",
    "]\n",
    "G.add_nodes_from(cities)\n",
    "\n",
    "# Add edges with distances between cities (modify distances as needed)\n",
    "edges = [\n",
    "    (\"WA\", \"CA1\", 1050),\n",
    "    (\"CA1\", \"CA2\", 600),\n",
    "    (\"WA\", \"CA2\", 1500),\n",
    "    (\"CA1\", \"UT\", 750),\n",
    "    (\"WA\", \"IL\", 2400),\n",
    "    (\"UT\", \"MI\", 1950),\n",
    "    (\"UT\", \"CO\", 600),\n",
    "    (\"CA2\", \"TX\", 1800),\n",
    "    (\"CO\", \"NE\", 600),\n",
    "    (\"CO\", \"TX\", 1200),\n",
    "    (\"NE\", \"IL\", 750),\n",
    "    (\"NE\", \"GA\", 1350),\n",
    "    (\"TX\", \"DC\", 1800),\n",
    "    (\"TX\", \"GA\", 1050),\n",
    "    (\"IL\", \"PA\", 750),\n",
    "    (\"PA\", \"NJ\", 300),\n",
    "    (\"PA\", \"NY\", 300),\n",
    "    (\"MI\", \"NY\", 600),\n",
    "    (\"MI\", \"NJ\", 750),\n",
    "    (\"NY\", \"DC\", 300),\n",
    "    (\"NJ\", \"DC\", 150),\n",
    "    (\"PA\", \"GA\", 750)\n",
    "]\n",
    "\n",
    "G.add_weighted_edges_from(edges)\n"
   ]
  },
  {
   "cell_type": "code",
   "execution_count": 7,
   "id": "1c4f5348b8e5828e",
   "metadata": {
    "ExecuteTime": {
     "end_time": "2024-04-20T16:35:53.404808Z",
     "start_time": "2024-04-20T16:35:53.389882Z"
    }
   },
   "outputs": [],
   "source": [
    "def dijkstras_algorithm(graph, start_vertex, end_vertex):\n",
    "    INFINITY = float('inf')\n",
    "    distances = {vertex: INFINITY for vertex in graph}\n",
    "    distances[start_vertex] = 0\n",
    "\n",
    "    unvisited = list(graph)\n",
    "    predecessors = {vertex: None for vertex in graph}\n",
    "\n",
    "    def get_vertex_with_min_distance():\n",
    "        return min((distances[vertex], vertex) for vertex in unvisited)[1]\n",
    "\n",
    "    while unvisited:\n",
    "        current_vertex = get_vertex_with_min_distance()\n",
    "\n",
    "        if current_vertex == end_vertex:\n",
    "            break\n",
    "\n",
    "        unvisited.remove(current_vertex)\n",
    "\n",
    "        for neighbour, cost in graph[current_vertex].items():\n",
    "            new_cost = distances[current_vertex] + cost['weight']\n",
    "            if new_cost < distances[neighbour]:\n",
    "                distances[neighbour] = new_cost\n",
    "                predecessors[neighbour] = current_vertex\n",
    "\n",
    "    shortest_path, current_vertex = [], end_vertex\n",
    "    while predecessors[current_vertex] is not None:\n",
    "        shortest_path.insert(0, current_vertex)\n",
    "        current_vertex = predecessors[current_vertex]\n",
    "\n",
    "    shortest_path.insert(0, current_vertex)\n",
    "\n",
    "    return distances[end_vertex], shortest_path"
   ]
  },
  {
   "cell_type": "code",
   "execution_count": 12,
   "id": "cc15db85e883340d",
   "metadata": {
    "ExecuteTime": {
     "end_time": "2024-04-20T16:36:00.713286Z",
     "start_time": "2024-04-20T16:36:00.688135Z"
    }
   },
   "outputs": [],
   "source": [
    "def main():\n",
    "    # My Implementation\n",
    "    import time\n",
    "    import nx\n",
    "\n",
    "    start_time = time.perf_counter()\n",
    "    distance, path = dijkstras_algorithm(G_dict, start_vertex, end_vertex)\n",
    "    end_time = time.perf_counter()\n",
    "    print(\"Execution time (Own Implementation):\", end_time - start_time, \"seconds\")\n",
    "    print(\"Shortest distance (Own Implementation):\", distance)\n",
    "    print(\"Shortest path (Own Implementation):\", path)\n",
    "\n",
    "    # NetworkX Implementation\n",
    "    start_time = time.perf_counter()\n",
    "    nx_distance = nx.shortest_path_length(city_graph.G, start_vertex, end_vertex, weight='weight')\n",
    "    nx_path = nx.shortest_path(city_graph.G, start_vertex, end_vertex, weight='weight')\n",
    "    end_time = time.perf_counter()\n",
    "    print(\"Execution time (NetworkX):\", end_time - start_time, \"seconds\")\n",
    "    print(\"Shortest distance (NetworkX):\", nx_distance)\n",
    "    print(\"Shortest path (NetworkX):\", nx_path)"
   ]
  },
  {
   "cell_type": "code",
   "execution_count": 14,
   "id": "f041bf0d6bac94e1",
   "metadata": {
    "ExecuteTime": {
     "end_time": "2024-04-20T16:33:07.744197Z",
     "start_time": "2024-04-20T16:33:07.728777Z"
    }
   },
   "outputs": [
    {
     "ename": "ModuleNotFoundError",
     "evalue": "No module named 'nx'",
     "output_type": "error",
     "traceback": [
      "\u001b[1;31m---------------------------------------------------------------------------\u001b[0m",
      "\u001b[1;31mModuleNotFoundError\u001b[0m                       Traceback (most recent call last)",
      "\u001b[1;32m<ipython-input-14-263240bbee7e>\u001b[0m in \u001b[0;36m<module>\u001b[1;34m\u001b[0m\n\u001b[1;32m----> 1\u001b[1;33m \u001b[0mmain\u001b[0m\u001b[1;33m(\u001b[0m\u001b[1;33m)\u001b[0m\u001b[1;33m\u001b[0m\u001b[1;33m\u001b[0m\u001b[0m\n\u001b[0m",
      "\u001b[1;32m<ipython-input-12-540832c147a3>\u001b[0m in \u001b[0;36mmain\u001b[1;34m()\u001b[0m\n\u001b[0;32m      2\u001b[0m     \u001b[1;31m# My Implementation\u001b[0m\u001b[1;33m\u001b[0m\u001b[1;33m\u001b[0m\u001b[1;33m\u001b[0m\u001b[0m\n\u001b[0;32m      3\u001b[0m     \u001b[1;32mimport\u001b[0m \u001b[0mtime\u001b[0m\u001b[1;33m\u001b[0m\u001b[1;33m\u001b[0m\u001b[0m\n\u001b[1;32m----> 4\u001b[1;33m     \u001b[1;32mimport\u001b[0m \u001b[0mnx\u001b[0m\u001b[1;33m\u001b[0m\u001b[1;33m\u001b[0m\u001b[0m\n\u001b[0m\u001b[0;32m      5\u001b[0m \u001b[1;33m\u001b[0m\u001b[0m\n\u001b[0;32m      6\u001b[0m     \u001b[0mstart_time\u001b[0m \u001b[1;33m=\u001b[0m \u001b[0mtime\u001b[0m\u001b[1;33m.\u001b[0m\u001b[0mperf_counter\u001b[0m\u001b[1;33m(\u001b[0m\u001b[1;33m)\u001b[0m\u001b[1;33m\u001b[0m\u001b[1;33m\u001b[0m\u001b[0m\n",
      "\u001b[1;31mModuleNotFoundError\u001b[0m: No module named 'nx'"
     ]
    }
   ],
   "source": [
    "main()"
   ]
  },
  {
   "cell_type": "code",
   "execution_count": null,
   "id": "c0c4f5a1",
   "metadata": {},
   "outputs": [],
   "source": []
  }
 ],
 "metadata": {
  "kernelspec": {
   "display_name": "Python 3",
   "language": "python",
   "name": "python3"
  },
  "language_info": {
   "codemirror_mode": {
    "name": "ipython",
    "version": 3
   },
   "file_extension": ".py",
   "mimetype": "text/x-python",
   "name": "python",
   "nbconvert_exporter": "python",
   "pygments_lexer": "ipython3",
   "version": "3.6.8"
  }
 },
 "nbformat": 4,
 "nbformat_minor": 5
}
