{
 "cells": [
  {
   "cell_type": "code",
   "execution_count": 3,
   "id": "ef071eb98590743a",
   "metadata": {
    "ExecuteTime": {
     "end_time": "2024-04-20T21:07:25.890973Z",
     "start_time": "2024-04-20T21:07:25.620863Z"
    }
   },
   "outputs": [],
   "source": [
    "import networkx as nx  # Assuming used in city_graph.py\n",
    "import time"
   ]
  },
  {
   "cell_type": "code",
   "execution_count": 4,
   "id": "5edbb9d5a76da0b5",
   "metadata": {
    "ExecuteTime": {
     "end_time": "2024-04-20T21:07:25.906795Z",
     "start_time": "2024-04-20T21:07:25.890973Z"
    }
   },
   "outputs": [],
   "source": [
    "# Assuming city_graph.py is in the same directory\n",
    "import city_graph\n",
    "\n",
    "G = city_graph.G"
   ]
  },
  {
   "cell_type": "code",
   "execution_count": 5,
   "id": "98d007bcef24c2e7",
   "metadata": {
    "ExecuteTime": {
     "end_time": "2024-04-20T21:07:25.922581Z",
     "start_time": "2024-04-20T21:07:25.908818Z"
    }
   },
   "outputs": [],
   "source": [
    "def dijkstras_algorithm(G, start_vertex, end_vertex):\n",
    "    D = {v: float('inf') for v in G}\n",
    "    D[start_vertex] = 0\n",
    "\n",
    "    unvisited = list(G)\n",
    "    previous_vertices = {v: None for v in G}\n",
    "\n",
    "    while unvisited:\n",
    "        current_vertex = min((D[vertex], vertex) for vertex in unvisited)[1]\n",
    "        if current_vertex == end_vertex:\n",
    "            break\n",
    "        unvisited.remove(current_vertex)\n",
    "\n",
    "        for neighbour, cost in G[current_vertex].items():\n",
    "            new_cost = D[current_vertex] + cost['weight']  # Adjusted line\n",
    "            if new_cost < D[neighbour]:\n",
    "                D[neighbour] = new_cost\n",
    "                previous_vertices[neighbour] = current_vertex\n",
    "\n",
    "    path, current_vertex = [], end_vertex\n",
    "    while previous_vertices[current_vertex] is not None:\n",
    "        path.insert(0, current_vertex)\n",
    "        current_vertex = previous_vertices[current_vertex]\n",
    "    path.insert(0, current_vertex)\n",
    "\n",
    "    return D[end_vertex], path"
   ]
  },
  {
   "cell_type": "code",
   "execution_count": 19,
   "id": "b72b7f97e8f4cf22",
   "metadata": {
    "ExecuteTime": {
     "end_time": "2024-04-20T21:07:25.938368Z",
     "start_time": "2024-04-20T21:07:25.922581Z"
    }
   },
   "outputs": [],
   "source": [
    "# Convert NetworkX graph into a dict of dicts\n",
    "G_dict = nx.to_dict_of_dicts(city_graph.G)\n",
    "\n",
    "start_vertex = \"NY\"\n",
    "end_vertex = \"CA2\"\n",
    "\n",
    "def main():\n",
    "    # Your Implementation\n",
    "    start_time = time.perf_counter()\n",
    "    distance, path = dijkstras_algorithm(G_dict, start_vertex, end_vertex)\n",
    "    end_time = time.perf_counter()\n",
    "    print(\"Execution time (Own Implementation):\", end_time - start_time, \"seconds\")\n",
    "    print(\"Shortest distance (Own Implementation):\", distance)\n",
    "    print(\"Shortest path (Own Implementation):\", path)\n",
    "\n",
    "    # NetworkX Implementation\n",
    "    start_time = time.perf_counter()\n",
    "    nx_distance = nx.shortest_path_length(city_graph.G, start_vertex, end_vertex, weight='weight')\n",
    "    nx_path = nx.shortest_path(city_graph.G, start_vertex, end_vertex, weight='weight')\n",
    "    end_time = time.perf_counter()\n",
    "    print(\"Execution time (NetworkX):\", end_time - start_time, \"seconds\")\n",
    "    print(\"Shortest distance (NetworkX):\", nx_distance)\n",
    "    print(\"Shortest path (NetworkX):\", nx_path)"
   ]
  },
  {
   "cell_type": "code",
   "execution_count": 22,
   "id": "b9f543d23caeee97",
   "metadata": {
    "ExecuteTime": {
     "end_time": "2024-04-20T21:07:53.887657Z",
     "start_time": "2024-04-20T21:07:53.871525Z"
    }
   },
   "outputs": [
    {
     "name": "stdout",
     "output_type": "stream",
     "text": [
      "Execution time (Own Implementation): 5.5900000006658956e-05 seconds\n",
      "Shortest distance (Own Implementation): 3900\n",
      "Shortest path (Own Implementation): ['NY', 'DC', 'TX', 'CA2']\n",
      "Execution time (NetworkX): 0.0005648999999721127 seconds\n",
      "Shortest distance (NetworkX): 3900\n",
      "Shortest path (NetworkX): ['NY', 'DC', 'TX', 'CA2']\n"
     ]
    }
   ],
   "source": [
    "if __name__ == '__main__':\n",
    "    main()"
   ]
  },
  {
   "cell_type": "code",
   "execution_count": null,
   "id": "6139bb32",
   "metadata": {},
   "outputs": [],
   "source": []
  },
  {
   "cell_type": "code",
   "execution_count": null,
   "id": "ecb5778d",
   "metadata": {},
   "outputs": [],
   "source": []
  },
  {
   "cell_type": "code",
   "execution_count": null,
   "id": "723a1481",
   "metadata": {},
   "outputs": [],
   "source": []
  },
  {
   "cell_type": "code",
   "execution_count": null,
   "id": "c73beaf5",
   "metadata": {},
   "outputs": [],
   "source": []
  }
 ],
 "metadata": {
  "kernelspec": {
   "display_name": "Python 3",
   "language": "python",
   "name": "python3"
  },
  "language_info": {
   "codemirror_mode": {
    "name": "ipython",
    "version": 3
   },
   "file_extension": ".py",
   "mimetype": "text/x-python",
   "name": "python",
   "nbconvert_exporter": "python",
   "pygments_lexer": "ipython3",
   "version": "3.6.8"
  }
 },
 "nbformat": 4,
 "nbformat_minor": 5
}
