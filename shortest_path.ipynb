{
 "cells": [
  {
   "cell_type": "code",
   "id": "ef071eb98590743a",
   "metadata": {
    "ExecuteTime": {
     "end_time": "2024-04-24T17:07:45.012976Z",
     "start_time": "2024-04-24T17:07:44.984286Z"
    }
   },
   "source": [
    "import time\n",
    "import networkx as nx"
   ],
   "outputs": [],
   "execution_count": 16
  },
  {
   "cell_type": "code",
   "id": "5edbb9d5a76da0b5",
   "metadata": {
    "ExecuteTime": {
     "end_time": "2024-04-24T17:07:45.028957Z",
     "start_time": "2024-04-24T17:07:45.015810Z"
    }
   },
   "source": [
    "# Create an empty graph object\n",
    "G = nx.Graph()\n",
    "\n",
    "# Add nodes to the graph\n",
    "cities = [\n",
    "    \"WA\", \"CA1\", \"CA2\", \"UT\", \"CO\", \"TX\", \"NE\", \"IL\", \"PA\", \"GA\", \"MI\", \"NY\", \"NJ\", \"DC\"\n",
    "]\n",
    "G.add_nodes_from(cities)\n",
    "\n",
    "# Add edges with distances between cities (modify distances as needed)\n",
    "edges = [\n",
    "    (\"WA\", \"CA1\", 1050),\n",
    "    (\"CA1\", \"CA2\", 600),\n",
    "    (\"WA\", \"CA2\", 1500),\n",
    "    (\"CA1\", \"UT\", 750),\n",
    "    (\"WA\", \"IL\", 2400),\n",
    "    (\"UT\", \"MI\", 1950),\n",
    "    (\"UT\", \"CO\", 600),\n",
    "    (\"CA2\", \"TX\", 1800),\n",
    "    (\"CO\", \"NE\", 600),\n",
    "    (\"CO\", \"TX\", 1200),\n",
    "    (\"NE\", \"IL\", 750),\n",
    "    (\"NE\", \"GA\", 1350),\n",
    "    (\"TX\", \"DC\", 1800),\n",
    "    (\"TX\", \"GA\", 1050),\n",
    "    (\"IL\", \"PA\", 750),\n",
    "    (\"PA\", \"NJ\", 300),\n",
    "    (\"PA\", \"NY\", 300),\n",
    "    (\"MI\", \"NY\", 600),\n",
    "    (\"MI\", \"NJ\", 750),\n",
    "    (\"NY\", \"DC\", 300),\n",
    "    (\"NJ\", \"DC\", 150),\n",
    "    (\"PA\", \"GA\", 750)\n",
    "]\n",
    "\n",
    "G.add_weighted_edges_from(edges)"
   ],
   "outputs": [],
   "execution_count": 17
  },
  {
   "cell_type": "code",
   "id": "98d007bcef24c2e7",
   "metadata": {
    "ExecuteTime": {
     "end_time": "2024-04-24T17:07:45.038762Z",
     "start_time": "2024-04-24T17:07:45.028957Z"
    }
   },
   "source": [
    "def dijkstras_algorithm(G, start_vertex, end_vertex):\n",
    "    D = {v: float('inf') for v in G}\n",
    "    D[start_vertex] = 0\n",
    "\n",
    "    unvisited = list(G)\n",
    "    previous_vertices = {v: None for v in G}\n",
    "\n",
    "    while unvisited:\n",
    "        current_vertex = min((D[vertex], vertex) for vertex in unvisited)[1]\n",
    "        if current_vertex == end_vertex:\n",
    "            break\n",
    "        unvisited.remove(current_vertex)\n",
    "\n",
    "        for neighbour, cost in G[current_vertex].items():\n",
    "            new_cost = D[current_vertex] + cost['weight']  # Adjusted line\n",
    "            if new_cost < D[neighbour]:\n",
    "                D[neighbour] = new_cost\n",
    "                previous_vertices[neighbour] = current_vertex\n",
    "\n",
    "    path, current_vertex = [], end_vertex\n",
    "    while previous_vertices[current_vertex] is not None:\n",
    "        path.insert(0, current_vertex)\n",
    "        current_vertex = previous_vertices[current_vertex]\n",
    "    path.insert(0, current_vertex)\n",
    "\n",
    "    return D[end_vertex], path"
   ],
   "outputs": [],
   "execution_count": 18
  },
  {
   "cell_type": "code",
   "id": "b72b7f97e8f4cf22",
   "metadata": {
    "ExecuteTime": {
     "end_time": "2024-04-24T17:07:45.054387Z",
     "start_time": "2024-04-24T17:07:45.038762Z"
    }
   },
   "source": [
    "# Convert NetworkX graph into a dict of dicts\n",
    "G_dict = nx.to_dict_of_dicts(G)\n",
    "\n",
    "start_vertex = \"CA1\"\n",
    "end_vertex = \"NJ\"\n",
    "\n",
    "def main():\n",
    "    # Your Implementation\n",
    "    start_time = time.perf_counter()\n",
    "    distance, path = dijkstras_algorithm(G_dict, start_vertex, end_vertex)\n",
    "    end_time = time.perf_counter()\n",
    "    print(\"Execution time (Own Implementation):\", end_time - start_time, \"seconds\")\n",
    "    print(\"Shortest distance (Own Implementation):\", distance)\n",
    "    print(\"Shortest path (Own Implementation):\", path)\n",
    "\n",
    "    # NetworkX Implementation\n",
    "    start_time = time.perf_counter()\n",
    "    nx_distance = nx.shortest_path_length(G, start_vertex, end_vertex, weight='weight')\n",
    "    nx_path = nx.shortest_path(G, start_vertex, end_vertex, weight='weight')\n",
    "    end_time = time.perf_counter()\n",
    "    print(\"Execution time (NetworkX):\", end_time - start_time, \"seconds\")\n",
    "    print(\"Shortest distance (NetworkX):\", nx_distance)\n",
    "    print(\"Shortest path (NetworkX):\", nx_path)"
   ],
   "outputs": [],
   "execution_count": 19
  },
  {
   "cell_type": "code",
   "id": "b9f543d23caeee97",
   "metadata": {
    "ExecuteTime": {
     "end_time": "2024-04-24T17:07:45.070060Z",
     "start_time": "2024-04-24T17:07:45.054387Z"
    }
   },
   "source": [
    "if __name__ == '__main__':\n",
    "    main()"
   ],
   "outputs": [
    {
     "name": "stdout",
     "output_type": "stream",
     "text": [
      "Execution time (Own Implementation): 4.859999998529929e-05 seconds\n",
      "Shortest distance (Own Implementation): 3450\n",
      "Shortest path (Own Implementation): ['CA1', 'UT', 'MI', 'NJ']\n",
      "Execution time (NetworkX): 8.710000000178297e-05 seconds\n",
      "Shortest distance (NetworkX): 3450\n",
      "Shortest path (NetworkX): ['CA1', 'UT', 'MI', 'NJ']\n"
     ]
    }
   ],
   "execution_count": 20
  }
 ],
 "metadata": {
  "kernelspec": {
   "display_name": "Python 3",
   "language": "python",
   "name": "python3"
  },
  "language_info": {
   "codemirror_mode": {
    "name": "ipython",
    "version": 3
   },
   "file_extension": ".py",
   "mimetype": "text/x-python",
   "name": "python",
   "nbconvert_exporter": "python",
   "pygments_lexer": "ipython3",
   "version": "3.6.8"
  }
 },
 "nbformat": 4,
 "nbformat_minor": 5
}
