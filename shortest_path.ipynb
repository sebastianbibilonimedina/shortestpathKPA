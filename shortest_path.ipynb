{
 "cells": [
  {
   "cell_type": "code",
   "execution_count": 1,
   "id": "ef071eb98590743a",
   "metadata": {
    "ExecuteTime": {
     "end_time": "2024-04-24T17:18:08.171042Z",
     "start_time": "2024-04-24T17:18:08.139667Z"
    }
   },
   "outputs": [],
   "source": [
    "import time\n",
    "import networkx as nx"
   ]
  },
  {
   "cell_type": "code",
   "execution_count": 2,
   "id": "5edbb9d5a76da0b5",
   "metadata": {
    "ExecuteTime": {
     "end_time": "2024-04-24T17:18:08.186678Z",
     "start_time": "2024-04-24T17:18:08.171042Z"
    }
   },
   "outputs": [],
   "source": [
    "# Create an empty graph object\n",
    "G = nx.Graph()\n",
    "\n",
    "# Add nodes to the graph\n",
    "cities = [\n",
    "    \"WA\", \"CA1\", \"CA2\", \"UT\", \"CO\", \"TX\", \"NE\", \"IL\", \"PA\", \"GA\", \"MI\", \"NY\", \"NJ\", \"DC\"\n",
    "]\n",
    "G.add_nodes_from(cities)\n",
    "\n",
    "# Add edges with distances between cities (modify distances as needed)\n",
    "edges = [\n",
    "    (\"WA\", \"CA1\", 1050),\n",
    "    (\"CA1\", \"CA2\", 600),\n",
    "    (\"WA\", \"CA2\", 1500),\n",
    "    (\"CA1\", \"UT\", 750),\n",
    "    (\"WA\", \"IL\", 2400),\n",
    "    (\"UT\", \"MI\", 1950),\n",
    "    (\"UT\", \"CO\", 600),\n",
    "    (\"CA2\", \"TX\", 1800),\n",
    "    (\"CO\", \"NE\", 600),\n",
    "    (\"CO\", \"TX\", 1200),\n",
    "    (\"NE\", \"IL\", 750),\n",
    "    (\"NE\", \"GA\", 1350),\n",
    "    (\"TX\", \"DC\", 1800),\n",
    "    (\"TX\", \"GA\", 1050),\n",
    "    (\"IL\", \"PA\", 750),\n",
    "    (\"PA\", \"NJ\", 300),\n",
    "    (\"PA\", \"NY\", 300),\n",
    "    (\"MI\", \"NY\", 600),\n",
    "    (\"MI\", \"NJ\", 750),\n",
    "    (\"NY\", \"DC\", 300),\n",
    "    (\"NJ\", \"DC\", 150),\n",
    "    (\"PA\", \"GA\", 750)\n",
    "]\n",
    "\n",
    "G.add_weighted_edges_from(edges)"
   ]
  },
  {
   "cell_type": "code",
   "execution_count": 3,
   "id": "98d007bcef24c2e7",
   "metadata": {
    "ExecuteTime": {
     "end_time": "2024-04-24T17:18:08.202304Z",
     "start_time": "2024-04-24T17:18:08.186678Z"
    }
   },
   "outputs": [],
   "source": [
    "def dijkstras_algorithm(G, start_vertex, end_vertex):\n",
    "    D = {v: float('inf') for v in G}\n",
    "    D[start_vertex] = 0\n",
    "\n",
    "    unvisited = list(G)\n",
    "    previous_vertices = {v: None for v in G}\n",
    "\n",
    "    while unvisited:\n",
    "        current_vertex = min((D[vertex], vertex) for vertex in unvisited)[1]\n",
    "        if current_vertex == end_vertex:\n",
    "            break\n",
    "        unvisited.remove(current_vertex)\n",
    "\n",
    "        for neighbour, cost in G[current_vertex].items():\n",
    "            new_cost = D[current_vertex] + cost['weight']  # Adjusted line\n",
    "            if new_cost < D[neighbour]:\n",
    "                D[neighbour] = new_cost\n",
    "                previous_vertices[neighbour] = current_vertex\n",
    "\n",
    "    path, current_vertex = [], end_vertex\n",
    "    while previous_vertices[current_vertex] is not None:\n",
    "        path.insert(0, current_vertex)\n",
    "        current_vertex = previous_vertices[current_vertex]\n",
    "    path.insert(0, current_vertex)\n",
    "\n",
    "    return D[end_vertex], path"
   ]
  },
  {
   "cell_type": "code",
   "execution_count": 4,
   "id": "b72b7f97e8f4cf22",
   "metadata": {
    "ExecuteTime": {
     "end_time": "2024-04-24T17:18:08.214103Z",
     "start_time": "2024-04-24T17:18:08.202304Z"
    }
   },
   "outputs": [],
   "source": [
    "G_dict = nx.to_dict_of_dicts(G)\n",
    "\n",
    "def main():\n",
    "    # Define the sets of start and end vertices\n",
    "    sets_of_vertices = [(\"NY\", \"CA2\"), (\"WA\", \"GA\"), (\"CA1\", \"NJ\")]\n",
    "\n",
    "    for start_vertex, end_vertex in sets_of_vertices:\n",
    "        # Your Implementation\n",
    "        start_time = time.perf_counter()\n",
    "        distance, path = dijkstras_algorithm(G_dict, start_vertex, end_vertex)\n",
    "        end_time = time.perf_counter()\n",
    "        print(f\"Execution time (Own Implementation) from {start_vertex} to {end_vertex}:\", end_time - start_time,\n",
    "              \"seconds\")\n",
    "        print(f\"Shortest distance (Own Implementation) from {start_vertex} to {end_vertex}:\", distance)\n",
    "        print(f\"Shortest path (Own Implementation) from {start_vertex} to {end_vertex}:\", path)\n",
    "\n",
    "        # NetworkX Implementation\n",
    "        start_time = time.perf_counter()\n",
    "        nx_distance = nx.shortest_path_length(G, start_vertex, end_vertex, weight='weight')\n",
    "        nx_path = nx.shortest_path(G, start_vertex, end_vertex, weight='weight')\n",
    "        end_time = time.perf_counter()\n",
    "        print(f\"Execution time (NetworkX) from {start_vertex} to {end_vertex}:\", end_time - start_time, \"seconds\")\n",
    "        print(f\"Shortest distance (NetworkX) from {start_vertex} to {end_vertex}:\", nx_distance)\n",
    "        print(f\"Shortest path (NetworkX) from {start_vertex} to {end_vertex}:\", nx_path)"
   ]
  },
  {
   "cell_type": "code",
   "execution_count": 5,
   "id": "b9f543d23caeee97",
   "metadata": {
    "ExecuteTime": {
     "end_time": "2024-04-24T17:18:08.229736Z",
     "start_time": "2024-04-24T17:18:08.214103Z"
    }
   },
   "outputs": [
    {
     "name": "stdout",
     "output_type": "stream",
     "text": [
      "Execution time (Own Implementation) from NY to CA2: 5.17e-05 seconds\n",
      "Shortest distance (Own Implementation) from NY to CA2: 3900\n",
      "Shortest path (Own Implementation) from NY to CA2: ['NY', 'DC', 'TX', 'CA2']\n",
      "Execution time (NetworkX) from NY to CA2: 8.969999999999998e-05 seconds\n",
      "Shortest distance (NetworkX) from NY to CA2: 3900\n",
      "Shortest path (NetworkX) from NY to CA2: ['NY', 'DC', 'TX', 'CA2']\n",
      "Execution time (Own Implementation) from WA to GA: 8.009999999999994e-05 seconds\n",
      "Shortest distance (Own Implementation) from WA to GA: 3900\n",
      "Shortest path (Own Implementation) from WA to GA: ['WA', 'IL', 'PA', 'GA']\n",
      "Execution time (NetworkX) from WA to GA: 0.0001137 seconds\n",
      "Shortest distance (NetworkX) from WA to GA: 3900\n",
      "Shortest path (NetworkX) from WA to GA: ['WA', 'IL', 'PA', 'GA']\n",
      "Execution time (Own Implementation) from CA1 to NJ: 5.190000000000012e-05 seconds\n",
      "Shortest distance (Own Implementation) from CA1 to NJ: 3450\n",
      "Shortest path (Own Implementation) from CA1 to NJ: ['CA1', 'UT', 'MI', 'NJ']\n",
      "Execution time (NetworkX) from CA1 to NJ: 0.00014560000000000007 seconds\n",
      "Shortest distance (NetworkX) from CA1 to NJ: 3450\n",
      "Shortest path (NetworkX) from CA1 to NJ: ['CA1', 'UT', 'MI', 'NJ']\n"
     ]
    }
   ],
   "source": [
    "if __name__ == '__main__':\n",
    "    main()"
   ]
  }
 ],
 "metadata": {
  "kernelspec": {
   "display_name": "Python 3",
   "language": "python",
   "name": "python3"
  },
  "language_info": {
   "codemirror_mode": {
    "name": "ipython",
    "version": 3
   },
   "file_extension": ".py",
   "mimetype": "text/x-python",
   "name": "python",
   "nbconvert_exporter": "python",
   "pygments_lexer": "ipython3",
   "version": "3.6.8"
  }
 },
 "nbformat": 4,
 "nbformat_minor": 5
}
